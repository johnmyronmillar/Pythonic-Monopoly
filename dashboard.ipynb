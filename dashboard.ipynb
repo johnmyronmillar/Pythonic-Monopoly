{
 "cells": [
  {
   "cell_type": "markdown",
   "metadata": {},
   "source": [
    "# San Francisco Rental Prices Dashboard\n",
    "\n",
    "In this notebook, you will compile the visualizations from the previous analysis into functions that can be used for a Panel dashboard."
   ]
  },
  {
   "cell_type": "code",
   "execution_count": 10,
   "metadata": {},
   "outputs": [],
   "source": [
    "# initial imports\n",
    "import os\n",
    "import pandas as pd\n",
    "import matplotlib.pyplot as plt\n",
    "import panel as pn\n",
    "import plotly.express as px\n",
    "from pathlib import Path\n",
    "from dotenv import load_dotenv\n",
    "\n",
    "# Initialize the Panel Extensions (for Plotly)\n",
    "pn.extension('plotly')\n",
    "import hvplot.pandas"
   ]
  },
  {
   "cell_type": "code",
   "execution_count": 11,
   "metadata": {},
   "outputs": [],
   "source": [
    "# Read the Mapbox API key\n",
    "load_dotenv()\n",
    "mapbox_token = os.getenv(\"MAPBOX\")"
   ]
  },
  {
   "cell_type": "code",
   "execution_count": 12,
   "metadata": {},
   "outputs": [],
   "source": [
    "px.set_mapbox_access_token(mapbox_token)"
   ]
  },
  {
   "cell_type": "markdown",
   "metadata": {},
   "source": [
    "# Import Data"
   ]
  },
  {
   "cell_type": "code",
   "execution_count": 8,
   "metadata": {},
   "outputs": [],
   "source": [
    "# Import the CSVs to Pandas DataFrames\n",
    "file_path = Path(\"Data/sfo_neighborhoods_census_data.csv\")\n",
    "sfo_data = pd.read_csv(file_path, index_col=\"year\")\n",
    "\n",
    "file_path = Path(\"Data/neighborhoods_coordinates.csv\")\n",
    "df_neighborhood_locations = pd.read_csv(file_path)"
   ]
  },
  {
   "cell_type": "markdown",
   "metadata": {},
   "source": [
    "- - -"
   ]
  },
  {
   "cell_type": "markdown",
   "metadata": {},
   "source": [
    "## Panel Visualizations\n",
    "\n",
    "In this section, you will copy the code for each plot type from your analysis notebook and place it into separate functions that Panel can use to create panes for the dashboard. \n",
    "\n",
    "These functions will convert the plot object to a Panel pane.\n",
    "\n",
    "Be sure to include any DataFrame transformation/manipulation code required along with the plotting code.\n",
    "\n",
    "Return a Panel pane object from each function that can be used to build the dashboard.\n",
    "\n",
    "Note: Remove any `.show()` lines from the code. We want to return the plots instead of showing them. The Panel dashboard will then display the plots."
   ]
  },
  {
   "cell_type": "code",
   "execution_count": 9,
   "metadata": {},
   "outputs": [
    {
     "ename": "NameError",
     "evalue": "name 'interact' is not defined",
     "output_type": "error",
     "traceback": [
      "\u001b[1;31m---------------------------------------------------------------------------\u001b[0m",
      "\u001b[1;31mNameError\u001b[0m                                 Traceback (most recent call last)",
      "\u001b[1;32m<ipython-input-9-3198d529b333>\u001b[0m in \u001b[0;36m<module>\u001b[1;34m\u001b[0m\n\u001b[0;32m     10\u001b[0m     \u001b[1;32mreturn\u001b[0m \u001b[0mhousing_units_per_year_plot\u001b[0m\u001b[1;33m\u001b[0m\u001b[1;33m\u001b[0m\u001b[0m\n\u001b[0;32m     11\u001b[0m \u001b[1;33m\u001b[0m\u001b[0m\n\u001b[1;32m---> 12\u001b[1;33m \u001b[0minteract\u001b[0m\u001b[1;33m(\u001b[0m\u001b[0mhousing_units_per_year\u001b[0m\u001b[1;33m,\u001b[0m \u001b[0mdf\u001b[0m\u001b[1;33m=\u001b[0m\u001b[0msfo_data\u001b[0m\u001b[1;33m,\u001b[0m \u001b[0mvar\u001b[0m\u001b[1;33m=\u001b[0m\u001b[1;34m'year'\u001b[0m\u001b[1;33m)\u001b[0m\u001b[1;33m\u001b[0m\u001b[1;33m\u001b[0m\u001b[0m\n\u001b[0m\u001b[0;32m     13\u001b[0m \u001b[1;33m\u001b[0m\u001b[0m\n\u001b[0;32m     14\u001b[0m \u001b[1;32mdef\u001b[0m \u001b[0maverage_gross_rent\u001b[0m\u001b[1;33m(\u001b[0m\u001b[0mdf\u001b[0m\u001b[1;33m,\u001b[0m \u001b[0mvar1\u001b[0m\u001b[1;33m,\u001b[0m \u001b[0mvar2\u001b[0m\u001b[1;33m)\u001b[0m\u001b[1;33m:\u001b[0m\u001b[1;33m\u001b[0m\u001b[1;33m\u001b[0m\u001b[0m\n",
      "\u001b[1;31mNameError\u001b[0m: name 'interact' is not defined"
     ]
    }
   ],
   "source": [
    "# Define Panel Visualization Functions\n",
    "def housing_units_per_year(df, var):\n",
    "    \"\"\"Housing Units Per Year.\"\"\"\n",
    "    \n",
    "    # YOUR CODE HERE!\n",
    "    fig_housing_units = df.groupby(var).mean()\n",
    "    \n",
    "    housing_units_per_year_plot = fig_housing_units.hvplot.bar(x=\"year\", y='housing_units', xlabel='Year', ylabel='Housing Units', rot=90, title='Housing Units in San Francisco from 2010 to 2016', ylim=(370000, 390000))\n",
    "\n",
    "    return housing_units_per_year_plot\n",
    "    \n",
    "interact(housing_units_per_year, df=sfo_data, var='year')\n",
    "\n",
    "def average_gross_rent(df, var1, var2):\n",
    "    \"\"\"Average Gross Rent in San Francisco Per Year.\"\"\"\n",
    "    \n",
    "    # YOUR CODE HERE!\n",
    "    avg_housing_price = df.groupby(var1).mean()\n",
    "\n",
    "    average_gross_rent_plot = avg_housing_price.hvplot.line(x=var1, y=var2, xlabel='Year', ylabel='Gross Rent', title='Average Gross Rent in San Francisco')\n",
    "\n",
    "    return average_gross_rent_plot\n",
    "\n",
    "interact(average_gross_rent, df=sfo_data, var1='year', var2='gross_rent')\n",
    "\n",
    "def average_sales_price(df, var1, var2):\n",
    "    \"\"\"Average Sales Price Per Year.\"\"\"\n",
    "    \n",
    "    # YOUR CODE HERE!\n",
    "    avg_housing_price = df.groupby(var1).mean()\n",
    "\n",
    "    average_sales_price_plot = avg_housing_price.hvplot.line(x=var1, y=var2, xlabel='Year', ylabel='Avg. Sale Price', title='Average Sale Price per Square Foot in San Francisco')\n",
    "\n",
    "    return average_sales_price_plot\n",
    "\n",
    "interact(average_sales_price, df=sfo_data, var1='year', var2='sale_price_sqr_foot')\n",
    "\n",
    "def average_price_by_neighborhood(df, var1, var2, var3):\n",
    "    \"\"\"Average Prices by Neighborhood.\"\"\"\n",
    "    \n",
    "    # YOUR CODE HERE!\n",
    "    average_price_by_neighborhood_plot = df.hvplot.line(x=var1, y=var2, groupby=var3, xlabel='Year', ylabel='Avg. Sale Price', title='Average Sale Price per Square Foot by Neighborhood')\n",
    "\n",
    "    return average_price_by_neighborhood_plot\n",
    "\n",
    "interact(average_price_by_neighborhood, df=sfo_data, var1='year', var2='sale_price_sqr_foot', var3='neighborhood')\n",
    "\n",
    "def top_most_expensive_neighborhoods(df, var1, var2):\n",
    "    \"\"\"Top 10 Most Expensive Neighborhoods.\"\"\"\n",
    "    \n",
    "    # YOUR CODE HERE!\n",
    "    avg_price_neighborhood = df.groupby(var1, axis=0).mean()\n",
    "    top_10 = avg_price_neighborhood.nlargest(10, var2)\n",
    "\n",
    "    top_most_expensive_neighborhoods_plot = top_10.hvplot.bar(x=var1, y=var2, xlabel='Neighborhood', ylabel='Sale Price per Sqr     Foot', rot=90, title = 'Top 10 Most Expesnsive Neighborhoods', ylim=(600,950))\n",
    "\n",
    "    return top_most_expensive_neighborhoods_plot\n",
    "\n",
    "interact(top_most_expensive_neighborhoods, df=sfo_data, var1='neighborhood', var2='sale_price_sqr_foot')\n",
    "\n",
    "def parallel_coordinates(df, var1, var2):\n",
    "    \"\"\"Parallel Coordinates Plot.\"\"\"\n",
    "    \n",
    "    # YOUR CODE HERE!\n",
    "    avg_price_neighborhood = df.groupby(var1, axis=0).mean()\n",
    "    top_10 = avg_price_neighborhood.nlargest(10, var2)\n",
    "\n",
    "    parallel_coordinates_plot = px.parallel_coordinates(top_10, color=var2)\n",
    "\n",
    "    return parallel_coordinates_plot\n",
    "\n",
    "interact(parallel_coordinates, df=sfo_data, var1='neighborhood', var2='sale_price_sqr_foot')\n",
    "\n",
    "def parallel_categories(df, var1, var2, var3, var4):\n",
    "    \"\"\"Parallel Categories Plot.\"\"\"\n",
    "    \n",
    "    # YOUR CODE HERE!\n",
    "    avg_price_neighborhood = df.groupby(var1, axis=0).mean()\n",
    "    top_10 = avg_price_neighborhood.nlargest(10, var2)\n",
    "\n",
    "    parallel_categories_plot = px.parallel_categories(top_10, dimensions=[top_10.index, var2, var3, var4], color=var2, color_continuous_scale=px.colors.sequential.Inferno)\n",
    "\n",
    "    return parallel_categories_plot\n",
    "\n",
    "interact(parallel_categories, df=sfo_data, var1='neighborhood', var2='sale_price_sqr_foot', var3='housing_units', var4='gross_rent')\n",
    "\n",
    "def neighborhood_map(df, df1, var1, y):\n",
    "    \"\"\"Neighborhood Map\"\"\"\n",
    "    \n",
    "    # YOUR CODE HERE!\n",
    "    df_neighborhood = df.groupby(var1, axis=0, as_index=False, sort=True).mean()\n",
    "    df_neighborhood.rename(columns={'neighborhood': 'Neighborhood'}, inplace=True)\n",
    "\n",
    "    left = df_neighborhood\n",
    "    right = df_neighborhood_locations\n",
    "\n",
    "    df_merge = pd.merge(left, right, how = 'inner', on =var2)\n",
    "\n",
    "    neighborhood_map = px.scatter_mapbox(df_merge, lat=var3, lon=var4, size=var5, color=var2, zoom=4)\n",
    "\n",
    "    return neighborhood_map\n",
    "\n",
    "\n",
    "interact(neighborhood_map, sfo_data, df_neighborhood_locations, var1='neighborhood', var2='Neighborhood', var3='Lat', var4='Lon', var5='sale_price_sqr_foot')\n"
   ]
  },
  {
   "cell_type": "markdown",
   "metadata": {},
   "source": [
    "## Panel Dashboard\n",
    "\n",
    "In this section, you will combine all of the plots into a single dashboard view using Panel. Be creative with your dashboard design!"
   ]
  },
  {
   "cell_type": "code",
   "execution_count": 5,
   "metadata": {},
   "outputs": [],
   "source": [
    "# YOUR CODE HERE!\n",
    "housing_units_per_year_plot \n",
    "average_gross_rent_plot\n",
    "average_sales_price_plot \n",
    "average_price_by_neighborhood_plot\n",
    "top_most_expensive_neighborhoods_plot\n",
    "parallel_coordinates_plot\n",
    "parallel_categories_plot\n",
    "neighborhood_map\n",
    "\n",
    "avg_column = pn.column('## Housing Pricing Plots',\n",
    "    housing_units_per_year_plot, \n",
    "    average_gross_rent_plot,\n",
    "    average_sales_price_plot, \n",
    "    average_price_by_neighborhood_plot)\n",
    "\n",
    "top_10_plots = pn.column('## Top 10 plots',\n",
    "    top_most_expensive_neighborhoods_plot,\n",
    "    parallel_coordinates_plot,\n",
    "    parallel_categories_plot,\n",
    "    neighborhood_map)\n",
    "\n",
    "housing_price_dashboard = pn.Tabs(\n",
    "    ('Housing Prices', avg_column),\n",
    "    ('Top 10', top_10_plots)\n",
    "    )\n",
    "\n",
    "housing_price_dashboard"
   ]
  },
  {
   "cell_type": "markdown",
   "metadata": {},
   "source": [
    "## Serve the Panel Dashboard"
   ]
  },
  {
   "cell_type": "code",
   "execution_count": 5,
   "metadata": {},
   "outputs": [
    {
     "ename": "NameError",
     "evalue": "name 'panel' is not defined",
     "output_type": "error",
     "traceback": [
      "\u001b[1;31m---------------------------------------------------------------------------\u001b[0m",
      "\u001b[1;31mNameError\u001b[0m                                 Traceback (most recent call last)",
      "\u001b[1;32m<ipython-input-5-7ea6f3083eaf>\u001b[0m in \u001b[0;36m<module>\u001b[1;34m\u001b[0m\n\u001b[1;32m----> 1\u001b[1;33m \u001b[0mpanel\u001b[0m\u001b[1;33m.\u001b[0m\u001b[0mservable\u001b[0m\u001b[1;33m(\u001b[0m\u001b[1;33m)\u001b[0m\u001b[1;33m\u001b[0m\u001b[1;33m\u001b[0m\u001b[0m\n\u001b[0m",
      "\u001b[1;31mNameError\u001b[0m: name 'panel' is not defined"
     ]
    }
   ],
   "source": [
    "panel.servable()"
   ]
  },
  {
   "cell_type": "code",
   "execution_count": null,
   "metadata": {},
   "outputs": [],
   "source": []
  }
 ],
 "metadata": {
  "file_extension": ".py",
  "kernelspec": {
   "display_name": "Python 3",
   "language": "python",
   "name": "python3"
  },
  "language_info": {
   "codemirror_mode": {
    "name": "ipython",
    "version": 3
   },
   "file_extension": ".py",
   "mimetype": "text/x-python",
   "name": "python",
   "nbconvert_exporter": "python",
   "pygments_lexer": "ipython3",
   "version": "3.7.6"
  },
  "mimetype": "text/x-python",
  "name": "python",
  "npconvert_exporter": "python",
  "pygments_lexer": "ipython3",
  "version": 3
 },
 "nbformat": 4,
 "nbformat_minor": 4
}
